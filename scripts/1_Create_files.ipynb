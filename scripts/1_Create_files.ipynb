{
 "cells": [
  {
   "cell_type": "markdown",
   "id": "ed078431",
   "metadata": {},
   "source": [
    "#### 🧰 Librerías necesarias\n",
    "#### Para crear carpetas o directorios directamente desde Python, no necesitas instalar nada adicional.\n",
    "#### Usarás librerías nativas del sistema operativo:\n",
    "#### •\tos → para manejar rutas, crear carpetas, listar archivos, etc.\n",
    "#### •\tpathlib → más moderna, limpia y recomendada para proyectos nuevos (parte de la librería estándar también).\n"
   ]
  },
  {
   "cell_type": "code",
   "execution_count": 1,
   "id": "90b48344",
   "metadata": {},
   "outputs": [
    {
     "name": "stdout",
     "output_type": "stream",
     "text": [
      "✅ Carpeta 'data' lista en c:\\Users\\diego\\documents\\BancoDigital_2025B\\scripts\\..\\data\n",
      "✅ Carpeta 'database' lista en c:\\Users\\diego\\documents\\BancoDigital_2025B\\scripts\\..\\database\n",
      "✅ Carpeta 'scripts' lista en c:\\Users\\diego\\documents\\BancoDigital_2025B\\scripts\\..\\scripts\n",
      "✅ Carpeta 'docs' lista en c:\\Users\\diego\\documents\\BancoDigital_2025B\\scripts\\..\\docs\n"
     ]
    }
   ],
   "source": [
    "from pathlib import Path\n",
    "\n",
    "# Rutas de carpetas del proyecto\n",
    "carpetas = [\"data\", \"database\", \"scripts\", \"docs\"]\n",
    "\n",
    "for carpeta in carpetas:\n",
    "    ruta = Path.cwd() / f\"../{carpeta}\"\n",
    "    ruta.mkdir(parents=True, exist_ok=True)\n",
    "    print(f\"✅ Carpeta '{carpeta}' lista en {ruta}\")\n"
   ]
  }
 ],
 "metadata": {
  "kernelspec": {
   "display_name": "myenv",
   "language": "python",
   "name": "python3"
  },
  "language_info": {
   "codemirror_mode": {
    "name": "ipython",
    "version": 3
   },
   "file_extension": ".py",
   "mimetype": "text/x-python",
   "name": "python",
   "nbconvert_exporter": "python",
   "pygments_lexer": "ipython3",
   "version": "3.13.7"
  }
 },
 "nbformat": 4,
 "nbformat_minor": 5
}
